{
  "nbformat": 4,
  "nbformat_minor": 0,
  "metadata": {
    "colab": {
      "provenance": []
    },
    "kernelspec": {
      "name": "python3",
      "display_name": "Python 3"
    },
    "language_info": {
      "name": "python"
    }
  },
  "cells": [
    {
      "cell_type": "code",
      "source": [
        "import random\n",
        "import pandas as pd\n",
        "import numpy as np\n",
        "#!pip install scikit-learn\n",
        "from sklearn.feature_extraction.text import TfidfVectorizer\n",
        "import matplotlib.pyplot as plt\n",
        "from sklearn.decomposition import PCA\n",
        "from sklearn.neighbors import KNeighborsClassifier\n",
        "from sklearn.preprocessing import LabelEncoder\n",
        "from sklearn.model_selection import train_test_split\n",
        "from sklearn.linear_model import LogisticRegression\n",
        "from sklearn.metrics import accuracy_score, precision_score, recall_score, f1_score\n",
        "import pylab as pl\n",
        "import scipy.optimize as opt\n",
        "from sklearn import preprocessing\n",
        "from sklearn import svm\n",
        "from sklearn.metrics import classification_report, confusion_matrix"
      ],
      "metadata": {
        "id": "BRg2NJMFJjlt"
      },
      "execution_count": null,
      "outputs": []
    },
    {
      "cell_type": "markdown",
      "source": [
        "Function to create embeddings"
      ],
      "metadata": {
        "id": "mZKsAp5mJHU4"
      }
    },
    {
      "cell_type": "code",
      "execution_count": null,
      "metadata": {
        "id": "AFJzbSUmIgfR"
      },
      "outputs": [],
      "source": [
        "def getTokens(input):\n",
        "  tokensBySlash = str(input.encode('utf-8')).split('/')\t#get tokens after splitting by slash\n",
        "  allTokens = []\n",
        "  for i in tokensBySlash:\n",
        "    tokens = str(i).split('-')\t#get tokens after splitting by dash\n",
        "    tokensByDot = []\n",
        "    for j in range(0,len(tokens)):\n",
        "      tempTokens = str(tokens[j]).split('.')\t#get tokens after splitting by dot\n",
        "      tokensByDot = tokensByDot + tempTokens\n",
        "    allTokens = allTokens + tokens + tokensByDot\n",
        "  allTokens = list(set(allTokens))\t#remove redundant tokens\n",
        "  if 'com' in allTokens:\n",
        "    allTokens.remove('com')\t#removing .com since it occurs a lot of times and it should not be included in our features\n",
        "  return allTokens\n",
        "\n",
        "def plot_confusion_matrix(cm, classes,\n",
        "                          normalize=False,\n",
        "                          title='Confusion matrix',\n",
        "                          cmap=plt.cm.Blues):\n",
        "    \"\"\"\n",
        "    This function prints and plots the confusion matrix.\n",
        "    Normalization can be applied by setting `normalize=True`.\n",
        "    \"\"\"\n",
        "    if normalize:\n",
        "        cm = cm.astype('float') / cm.sum(axis=1)[:, np.newaxis]\n",
        "        print(\"Normalized confusion matrix\")\n",
        "    else:\n",
        "        print('Confusion matrix, without normalization')\n",
        "\n",
        "    print(cm)\n",
        "\n",
        "    plt.imshow(cm, interpolation='nearest', cmap=cmap)\n",
        "    plt.title(title)\n",
        "    plt.colorbar()\n",
        "    tick_marks = np.arange(len(classes))\n",
        "    plt.xticks(tick_marks, classes, rotation=45)\n",
        "    plt.yticks(tick_marks, classes)\n",
        "\n",
        "    fmt = '.2f' if normalize else 'd'\n",
        "    thresh = cm.max() / 2.\n",
        "    for i, j in itertools.product(range(cm.shape[0]), range(cm.shape[1])):\n",
        "        plt.text(j, i, format(cm[i, j], fmt),\n",
        "                 horizontalalignment=\"center\",\n",
        "                 color=\"white\" if cm[i, j] > thresh else \"black\")\n",
        "\n",
        "    plt.tight_layout()\n",
        "    plt.ylabel('True label')\n",
        "    plt.xlabel('Predicted label')"
      ]
    },
    {
      "cell_type": "markdown",
      "source": [
        "Create embedding from data"
      ],
      "metadata": {
        "id": "ND5YL4pmJf8G"
      }
    },
    {
      "cell_type": "code",
      "source": [
        "allurls = 'shortester_data.txt'\t#path to our all urls file\n",
        "allurlscsv = pd.read_csv(allurls)\t#reading file\n",
        "allurlsdata = pd.DataFrame(allurlscsv)\t#converting to a dataframe\n",
        "\n",
        "allurlsdata = np.array(allurlsdata)\t#converting it into an array\n",
        "random.shuffle(allurlsdata)\t#shuffling\n",
        "print(allurlsdata)"
      ],
      "metadata": {
        "colab": {
          "base_uri": "https://localhost:8080/"
        },
        "id": "qTSgwb8ZJGDM",
        "outputId": "d1f4f0ef-2863-47b6-a332-016116cf24f8"
      },
      "execution_count": null,
      "outputs": [
        {
          "output_type": "stream",
          "name": "stdout",
          "text": [
            "[['zkic.com' 'bad']\n",
            " ['nowina.info' 'bad']\n",
            " ['zkic.com' 'bad']\n",
            " ...\n",
            " ['nacom.co.uk/wishes/Gdoc/' 'bad']\n",
            " ['erlas.com.tr/wp-admin/user/GgG/google/' 'bad']\n",
            " ['web.artprice.com/artistdetails.aspx?idarti=NTY0MzY2NzY5Nzk4MjkxMS0=&artist=Ross+R.+GILL'\n",
            "  'good']]\n"
          ]
        }
      ]
    },
    {
      "cell_type": "code",
      "source": [
        "y = [d[1] for d in allurlsdata]\t#all labels\n",
        "corpus = [d[0] for d in allurlsdata]\t#all urls corresponding to a label (either good or bad)\n",
        "vectorizer = TfidfVectorizer(tokenizer=getTokens)\t#get a vector for each url but use our customized tokenizer\n",
        "X = vectorizer.fit_transform(corpus) #get the X vector"
      ],
      "metadata": {
        "colab": {
          "base_uri": "https://localhost:8080/"
        },
        "id": "93FUAAdTKtn6",
        "outputId": "3f9831db-4a54-48ab-926a-eef312abf3d4"
      },
      "execution_count": null,
      "outputs": [
        {
          "output_type": "stream",
          "name": "stderr",
          "text": [
            "/usr/local/lib/python3.10/dist-packages/sklearn/feature_extraction/text.py:528: UserWarning: The parameter 'token_pattern' will not be used since 'tokenizer' is not None'\n",
            "  warnings.warn(\n"
          ]
        }
      ]
    },
    {
      "cell_type": "code",
      "source": [
        "# I can't figure out how to do color\n",
        "vectors = X.toarray()\n",
        "\n",
        "pca = PCA(n_components=2)\n",
        "vectors_2d = pca.fit_transform(vectors)\n",
        "\n",
        "plt.scatter(vectors_2d[:, 0], vectors_2d[:, 1])\n",
        "plt.show"
      ],
      "metadata": {
        "id": "NyKFEYAgN05R",
        "colab": {
          "base_uri": "https://localhost:8080/",
          "height": 599
        },
        "outputId": "836629a8-aa3f-49f0-ac34-21609ace5a00"
      },
      "execution_count": null,
      "outputs": [
        {
          "output_type": "execute_result",
          "data": {
            "text/plain": [
              "<function matplotlib.pyplot.show(close=None, block=None)>"
            ],
            "text/html": [
              "<div style=\"max-width:800px; border: 1px solid var(--colab-border-color);\"><style>\n",
              "      pre.function-repr-contents {\n",
              "        overflow-x: auto;\n",
              "        padding: 8px 12px;\n",
              "        max-height: 500px;\n",
              "      }\n",
              "\n",
              "      pre.function-repr-contents.function-repr-contents-collapsed {\n",
              "        cursor: pointer;\n",
              "        max-height: 100px;\n",
              "      }\n",
              "    </style>\n",
              "    <pre style=\"white-space: initial; background:\n",
              "         var(--colab-secondary-surface-color); padding: 8px 12px;\n",
              "         border-bottom: 1px solid var(--colab-border-color);\"><b>matplotlib.pyplot.show</b><br/>def show(*args, **kwargs)</pre><pre class=\"function-repr-contents function-repr-contents-collapsed\" style=\"\"><a class=\"filepath\" style=\"display:none\" href=\"#\">/usr/local/lib/python3.10/dist-packages/matplotlib/pyplot.py</a>Display all open figures.\n",
              "\n",
              "Parameters\n",
              "----------\n",
              "block : bool, optional\n",
              "    Whether to wait for all figures to be closed before returning.\n",
              "\n",
              "    If `True` block and run the GUI main loop until all figure windows\n",
              "    are closed.\n",
              "\n",
              "    If `False` ensure that all figure windows are displayed and return\n",
              "    immediately.  In this case, you are responsible for ensuring\n",
              "    that the event loop is running to have responsive figures.\n",
              "\n",
              "    Defaults to True in non-interactive mode and to False in interactive\n",
              "    mode (see `.pyplot.isinteractive`).\n",
              "\n",
              "See Also\n",
              "--------\n",
              "ion : Enable interactive mode, which shows / updates the figure after\n",
              "      every plotting command, so that calling ``show()`` is not necessary.\n",
              "ioff : Disable interactive mode.\n",
              "savefig : Save the figure to an image file instead of showing it on screen.\n",
              "\n",
              "Notes\n",
              "-----\n",
              "**Saving figures to file and showing a window at the same time**\n",
              "\n",
              "If you want an image file as well as a user interface window, use\n",
              "`.pyplot.savefig` before `.pyplot.show`. At the end of (a blocking)\n",
              "``show()`` the figure is closed and thus unregistered from pyplot. Calling\n",
              "`.pyplot.savefig` afterwards would save a new and thus empty figure. This\n",
              "limitation of command order does not apply if the show is non-blocking or\n",
              "if you keep a reference to the figure and use `.Figure.savefig`.\n",
              "\n",
              "**Auto-show in jupyter notebooks**\n",
              "\n",
              "The jupyter backends (activated via ``%matplotlib inline``,\n",
              "``%matplotlib notebook``, or ``%matplotlib widget``), call ``show()`` at\n",
              "the end of every cell by default. Thus, you usually don&#x27;t have to call it\n",
              "explicitly there.</pre>\n",
              "      <script>\n",
              "      if (google.colab.kernel.accessAllowed && google.colab.files && google.colab.files.view) {\n",
              "        for (const element of document.querySelectorAll('.filepath')) {\n",
              "          element.style.display = 'block'\n",
              "          element.onclick = (event) => {\n",
              "            event.preventDefault();\n",
              "            event.stopPropagation();\n",
              "            google.colab.files.view(element.textContent, 401);\n",
              "          };\n",
              "        }\n",
              "      }\n",
              "      for (const element of document.querySelectorAll('.function-repr-contents')) {\n",
              "        element.onclick = (event) => {\n",
              "          event.preventDefault();\n",
              "          event.stopPropagation();\n",
              "          element.classList.toggle('function-repr-contents-collapsed');\n",
              "        };\n",
              "      }\n",
              "      </script>\n",
              "      </div>"
            ]
          },
          "metadata": {},
          "execution_count": 5
        },
        {
          "output_type": "display_data",
          "data": {
            "text/plain": [
              "<Figure size 640x480 with 1 Axes>"
            ],
            "image/png": "[encoded data removed]"
          },
          "metadata": {}
        }
      ]
    },
    {
      "cell_type": "code",
      "source": [
        "X_train, X_test, y_train, y_test = train_test_split(X, y, test_size=.2, random_state=42)\t#split into training and testing set 80/20 ratio\n",
        "\n",
        "# lgs = LogisticRegression()\t#using logistic regression\n",
        "# lgs.fit(X_train, y_train)\n",
        "# print(lgs.score(X_test, y_test)) #print the score. It comes out to be 98%"
      ],
      "metadata": {
        "id": "dSZ0bJwvBDRP"
      },
      "execution_count": null,
      "outputs": []
    },
    {
      "cell_type": "code",
      "source": [
        "# X_predict = ['wikipedia.com','google.com/search=faizanahad','pakistanifacebookforever.com/getpassword.php/','www.radsport-voggel.de/wp-admin/includes/log.exe','ahrenhei.without-transfer.ru/nethost.exe','www.itidea.it/centroesteticosothys/img/_notes/gum.exe']\n",
        "# X_predict = vectorizer.transform(X_predict)\n",
        "# y_Predict = lgs.predict(X_predict)\n",
        "# print(y_Predict) #printing predicted values"
      ],
      "metadata": {
        "colab": {
          "base_uri": "https://localhost:8080/"
        },
        "id": "Gs_sBZXtBfmt",
        "outputId": "226f81f7-41d6-4d31-8ce4-df9330fe534a"
      },
      "execution_count": null,
      "outputs": [
        {
          "output_type": "stream",
          "name": "stdout",
          "text": [
            "['bad' 'bad' 'good' 'bad' 'bad' 'bad']\n",
            "['bad' 'bad' 'good' 'bad' 'bad' 'bad']\n"
          ]
        }
      ]
    },
    {
      "cell_type": "code",
      "source": [
        "# KNN implementation\n",
        "knn = KNeighborsClassifier(n_neighbors=3)\n",
        "\n",
        "value_mapping = {'bad': 0, 'good' : 1}\n",
        "\n",
        "knn.fit(X_train, y_train)\n",
        "y_pred = knn.predict(X_test)\n",
        "\n",
        "y_pred_str = np.array([value_mapping[y] for y in y_pred])\n",
        "y_test_str = np.array([value_mapping[y] for y in y_test])\n",
        "\n",
        "accuracy = accuracy_score(y_test, y_pred)\n",
        "precision = precision_score(y_test, y_pred, pos_label='good')\n",
        "recall = recall_score(y_test, y_pred, pos_label='good')\n",
        "f1 = f1_score(y_test, y_pred, pos_label='good')\n",
        "\n",
        "print(\"Accuracy:\", accuracy)\n",
        "print(\"Precision:\", precision)\n",
        "print(\"Recall:\", recall)\n",
        "print(\"F1 score:\", f1)\n"
      ],
      "metadata": {
        "colab": {
          "base_uri": "https://localhost:8080/"
        },
        "id": "LoXdJ7BuCotB",
        "outputId": "ec65df48-851a-460c-df5c-735d24b90207"
      },
      "execution_count": null,
      "outputs": [
        {
          "output_type": "stream",
          "name": "stdout",
          "text": [
            "Accuracy: 0.9164075993091537\n",
            "Precision: 0.9609455292908531\n",
            "Recall: 0.8208955223880597\n",
            "F1 score: 0.8854166666666667\n"
          ]
        }
      ]
    },
    {
      "cell_type": "code",
      "source": [
        "# SVM implementation\n",
        "clf = svm.SVC(kernel='rbf')\n",
        "clf.fit(X_train, y_train)\n",
        "yhat = clf.predict(X_test)\n",
        "\n",
        "y_svm_pred_str = np.array([value_mapping[y] for y in y_pred])\n",
        "y_svm_test_str = np.array([value_mapping[y] for y in y_test])\n",
        "\n",
        "accuracy = accuracy_score(y_test, yhat)\n",
        "precision = precision_score(y_test, yhat, pos_label='good')\n",
        "recall = recall_score(y_test, yhat, pos_label='good')\n",
        "f1 = f1_score(y_test, yhat, pos_label='good')\n",
        "\n",
        "print(\"Accuracy:\", accuracy)\n",
        "print(\"Precision:\", precision)\n",
        "print(\"Recall:\", recall)\n",
        "print(\"F1 score:\", f1)"
      ],
      "metadata": {
        "colab": {
          "base_uri": "https://localhost:8080/"
        },
        "id": "NIniNFGMCWfD",
        "outputId": "2f921908-7682-4c2d-deb8-7ff63e0da72a"
      },
      "execution_count": null,
      "outputs": [
        {
          "output_type": "stream",
          "name": "stdout",
          "text": [
            "Accuracy: 0.9813471502590674\n",
            "Precision: 0.9656652360515021\n",
            "Recall: 0.9877085162423178\n",
            "F1 score: 0.9765625\n"
          ]
        }
      ]
    }
  ]
}